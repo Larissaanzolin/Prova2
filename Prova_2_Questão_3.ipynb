{
  "nbformat": 4,
  "nbformat_minor": 0,
  "metadata": {
    "colab": {
      "provenance": [],
      "authorship_tag": "ABX9TyNVMUgxpiX3VZI2du4yG7ia",
      "include_colab_link": true
    },
    "kernelspec": {
      "name": "python3",
      "display_name": "Python 3"
    },
    "language_info": {
      "name": "python"
    }
  },
  "cells": [
    {
      "cell_type": "markdown",
      "metadata": {
        "id": "view-in-github",
        "colab_type": "text"
      },
      "source": [
        "<a href=\"https://colab.research.google.com/github/Larissaanzolin/Prova2/blob/main/Prova_2_Quest%C3%A3o_3.ipynb\" target=\"_parent\"><img src=\"https://colab.research.google.com/assets/colab-badge.svg\" alt=\"Open In Colab\"/></a>"
      ]
    },
    {
      "cell_type": "code",
      "metadata": {
        "colab": {
          "base_uri": "https://localhost:8080/"
        },
        "id": "rgVVejEoqWLQ",
        "outputId": "4a91baf8-2e0f-4b0c-e24c-456a5767f10a"
      },
      "source": [
        "!pip install control"
      ],
      "execution_count": null,
      "outputs": [
        {
          "output_type": "stream",
          "text": [
            "Requirement already satisfied: control in /usr/local/lib/python3.7/dist-packages (0.9.0)\n",
            "Requirement already satisfied: numpy in /usr/local/lib/python3.7/dist-packages (from control) (1.19.5)\n",
            "Requirement already satisfied: matplotlib in /usr/local/lib/python3.7/dist-packages (from control) (3.2.2)\n",
            "Requirement already satisfied: scipy in /usr/local/lib/python3.7/dist-packages (from control) (1.4.1)\n",
            "Requirement already satisfied: python-dateutil>=2.1 in /usr/local/lib/python3.7/dist-packages (from matplotlib->control) (2.8.1)\n",
            "Requirement already satisfied: kiwisolver>=1.0.1 in /usr/local/lib/python3.7/dist-packages (from matplotlib->control) (1.3.1)\n",
            "Requirement already satisfied: cycler>=0.10 in /usr/local/lib/python3.7/dist-packages (from matplotlib->control) (0.10.0)\n",
            "Requirement already satisfied: pyparsing!=2.0.4,!=2.1.2,!=2.1.6,>=2.0.1 in /usr/local/lib/python3.7/dist-packages (from matplotlib->control) (2.4.7)\n",
            "Requirement already satisfied: six>=1.5 in /usr/local/lib/python3.7/dist-packages (from python-dateutil>=2.1->matplotlib->control) (1.15.0)\n"
          ],
          "name": "stdout"
        }
      ]
    },
    {
      "cell_type": "code",
      "metadata": {
        "id": "owv5o3UIq1BY"
      },
      "source": [
        "import control.matlab as ctl\n",
        "import matplotlib.pyplot as plt\n",
        "import numpy as np\n",
        "import math"
      ],
      "execution_count": null,
      "outputs": []
    },
    {
      "cell_type": "code",
      "metadata": {
        "colab": {
          "base_uri": "https://localhost:8080/",
          "height": 397
        },
        "id": "Aw4snCeLq6Ci",
        "outputId": "bcabbb26-f56e-4efe-c9bc-e7a9db1152c8"
      },
      "source": [
        "num = np.array([1])\n",
        "dem = np.array([1,2,0.1])\n",
        "G = ctl.tf(num, dem)\n",
        "\n",
        "num1 = np.array([2.14,0.597])\n",
        "dem1= np.array([1,0])\n",
        "C = ctl.tf(num1, dem1)\n",
        "\n",
        "GC = G*C\n",
        "T = ctl.feedback(GC, sign = -1)\n",
        "print(T)\n",
        "\n",
        "#Plotando o gráfico\n",
        "x,y = ctl.step(T)\n",
        "plt.plot(y,x)\n",
        "\n",
        "plt.xlabel('t, s')\n",
        "plt.ylabel('Graus')\n",
        "plt.legend(loc='best')\n",
        "plt.title('Resposta ao degrau')\n",
        "plt.grid()\n",
        "plt.show()\n"
      ],
      "execution_count": null,
      "outputs": [
        {
          "output_type": "stream",
          "text": [
            "No handles with labels found to put in legend.\n"
          ],
          "name": "stderr"
        },
        {
          "output_type": "stream",
          "text": [
            "\n",
            "       2.14 s + 0.597\n",
            "----------------------------\n",
            "s^3 + 2 s^2 + 2.24 s + 0.597\n",
            "\n"
          ],
          "name": "stdout"
        },
        {
          "output_type": "display_data",
          "data": {
            "image/png": "[encoded data removed]",
            "text/plain": [
              "<Figure size 432x288 with 1 Axes>"
            ]
          },
          "metadata": {
            "tags": [],
            "needs_background": "light"
          }
        }
      ]
    },
    {
      "cell_type": "markdown",
      "metadata": {
        "id": "XhV5KcwvEQWA"
      },
      "source": [
        "#Ajuste no controlador obtido\n"
      ]
    },
    {
      "cell_type": "code",
      "metadata": {
        "colab": {
          "base_uri": "https://localhost:8080/",
          "height": 397
        },
        "id": "MOCFiTTYEPIP",
        "outputId": "9cbc1a87-3230-4e05-a316-3a79830f7897"
      },
      "source": [
        "num = np.array([1])\n",
        "dem = np.array([1,2,0.1])\n",
        "G = ctl.tf(num, dem)\n",
        "\n",
        "num1 = np.array([2,0.4])\n",
        "dem1= np.array([1,0])\n",
        "C = ctl.tf(num1, dem1)\n",
        "\n",
        "GC = G*C\n",
        "T = ctl.feedback(GC, sign = -1)\n",
        "print(T)\n",
        "\n",
        "#Plotando o gráfico\n",
        "x,y = ctl.step(T)\n",
        "plt.plot(y,x)\n",
        "\n",
        "plt.xlabel('t, s')\n",
        "plt.ylabel('Graus')\n",
        "plt.legend(loc='best')\n",
        "plt.title('Resposta ao degrau')\n",
        "plt.grid()\n",
        "plt.show()"
      ],
      "execution_count": null,
      "outputs": [
        {
          "output_type": "stream",
          "text": [
            "No handles with labels found to put in legend.\n"
          ],
          "name": "stderr"
        },
        {
          "output_type": "stream",
          "text": [
            "\n",
            "        2 s + 0.4\n",
            "-------------------------\n",
            "s^3 + 2 s^2 + 2.1 s + 0.4\n",
            "\n"
          ],
          "name": "stdout"
        },
        {
          "output_type": "display_data",
          "data": {
            "image/png": "[encoded data removed]",
            "text/plain": [
              "<Figure size 432x288 with 1 Axes>"
            ]
          },
          "metadata": {
            "tags": [],
            "needs_background": "light"
          }
        }
      ]
    }
  ]
}