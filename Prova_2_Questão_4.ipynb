{
  "nbformat": 4,
  "nbformat_minor": 0,
  "metadata": {
    "colab": {
      "provenance": [],
      "authorship_tag": "ABX9TyPRJILnaluKdAWi1H2YlwYc",
      "include_colab_link": true
    },
    "kernelspec": {
      "name": "python3",
      "display_name": "Python 3"
    },
    "language_info": {
      "name": "python"
    }
  },
  "cells": [
    {
      "cell_type": "markdown",
      "metadata": {
        "id": "view-in-github",
        "colab_type": "text"
      },
      "source": [
        "<a href=\"https://colab.research.google.com/github/Larissaanzolin/Prova2/blob/main/Prova_2_Quest%C3%A3o_4.ipynb\" target=\"_parent\"><img src=\"https://colab.research.google.com/assets/colab-badge.svg\" alt=\"Open In Colab\"/></a>"
      ]
    },
    {
      "cell_type": "code",
      "metadata": {
        "colab": {
          "base_uri": "https://localhost:8080/"
        },
        "id": "6uXyybV1qH64",
        "outputId": "95678fc4-515d-4585-aefc-ea7a12ad74e4"
      },
      "source": [
        "!pip install control"
      ],
      "execution_count": null,
      "outputs": [
        {
          "output_type": "stream",
          "text": [
            "Collecting control\n",
            "\u001b[?25l  Downloading https://files.pythonhosted.org/packages/88/87/ee6cb7cdcf4efe5634231bd688b307773629a100ec4c83b0c3eb03edd39d/control-0.9.0.tar.gz (339kB)\n",
            "\u001b[K     |████████████████████████████████| 348kB 5.1MB/s \n",
            "\u001b[?25hRequirement already satisfied: numpy in /usr/local/lib/python3.7/dist-packages (from control) (1.19.5)\n",
            "Requirement already satisfied: scipy in /usr/local/lib/python3.7/dist-packages (from control) (1.4.1)\n",
            "Requirement already satisfied: matplotlib in /usr/local/lib/python3.7/dist-packages (from control) (3.2.2)\n",
            "Requirement already satisfied: cycler>=0.10 in /usr/local/lib/python3.7/dist-packages (from matplotlib->control) (0.10.0)\n",
            "Requirement already satisfied: pyparsing!=2.0.4,!=2.1.2,!=2.1.6,>=2.0.1 in /usr/local/lib/python3.7/dist-packages (from matplotlib->control) (2.4.7)\n",
            "Requirement already satisfied: python-dateutil>=2.1 in /usr/local/lib/python3.7/dist-packages (from matplotlib->control) (2.8.1)\n",
            "Requirement already satisfied: kiwisolver>=1.0.1 in /usr/local/lib/python3.7/dist-packages (from matplotlib->control) (1.3.1)\n",
            "Requirement already satisfied: six in /usr/local/lib/python3.7/dist-packages (from cycler>=0.10->matplotlib->control) (1.15.0)\n",
            "Building wheels for collected packages: control\n",
            "  Building wheel for control (setup.py) ... \u001b[?25l\u001b[?25hdone\n",
            "  Created wheel for control: filename=control-0.9.0-py2.py3-none-any.whl size=344920 sha256=aa9c8fa1189bf274be368373e43d41deef418a29beea13eac25f9924729dc4e6\n",
            "  Stored in directory: /root/.cache/pip/wheels/35/be/ee/081b68ca3e4b2d253fba2f7f7e51960373903fb7b6d13c5532\n",
            "Successfully built control\n",
            "Installing collected packages: control\n",
            "Successfully installed control-0.9.0\n"
          ],
          "name": "stdout"
        }
      ]
    },
    {
      "cell_type": "code",
      "metadata": {
        "id": "5JvUTBPEqei9"
      },
      "source": [
        "import control.matlab as ctl\n",
        "import numpy as np\n",
        "import control"
      ],
      "execution_count": null,
      "outputs": []
    },
    {
      "cell_type": "code",
      "metadata": {
        "colab": {
          "base_uri": "https://localhost:8080/"
        },
        "id": "Ks2cXsrvrEcq",
        "outputId": "da76b690-30a9-43a8-d229-746791b25ace"
      },
      "source": [
        "# Matriz de Estados\n",
        "A = np.array([[0,1],[-0.1,-2]])\n",
        "B = np.array([[0],[1]])\n",
        "C = np.array([1,0])\n",
        "\n",
        "# controlabilidade\n",
        "AB = np.dot(A,B)\n",
        "U = np.concatenate([B,AB], axis = -1)\n",
        "\n",
        "print('Posto de U =', np.linalg.matrix_rank(U))\n",
        "\n",
        "polos = np.array([-0.375 + 0.65j,-0.375 - 0.65j])\n",
        "\n",
        "k = ctl.acker(A,B,polos)\n",
        "print('K = \\n',k)\n",
        "\n"
      ],
      "execution_count": null,
      "outputs": [
        {
          "output_type": "stream",
          "text": [
            "Posto de U = 2\n",
            "K = \n",
            " [[ 0.463125 -1.25    ]]\n"
          ],
          "name": "stdout"
        }
      ]
    }
  ]
}